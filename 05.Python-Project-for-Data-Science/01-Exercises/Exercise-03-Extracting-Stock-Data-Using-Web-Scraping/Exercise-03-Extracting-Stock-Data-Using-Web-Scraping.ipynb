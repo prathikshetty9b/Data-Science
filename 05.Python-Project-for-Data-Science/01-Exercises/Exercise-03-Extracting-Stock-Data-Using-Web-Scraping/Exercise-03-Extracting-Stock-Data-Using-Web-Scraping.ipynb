{
 "cells": [
  {
   "cell_type": "markdown",
   "metadata": {},
   "source": [
    "<center>\n",
    "    <img src=\"https://s3-api.us-geo.objectstorage.softlayer.net/cf-courses-data/CognitiveClass/Logos/organization_logo/organization_logo.png\" width=\"300\" alt=\"cognitiveclass.ai logo\"  />\n",
    "</center>\n"
   ]
  },
  {
   "cell_type": "markdown",
   "metadata": {},
   "source": [
    "<h1>Extracting Stock Data Using a Web Scraping</h1>\n"
   ]
  },
  {
   "cell_type": "markdown",
   "metadata": {},
   "source": [
    "Not all stock data is available via API in this assignment; you will use web-scraping to obtain financial data. You will be quizzed on your results.  \n",
    " Using beautiful soup we will extract historical share data from a web-page.\n"
   ]
  },
  {
   "cell_type": "markdown",
   "metadata": {},
   "source": [
    "<h2>Table of Contents</h2>\n",
    "<div class=\"alert alert-block alert-info\" style=\"margin-top: 20px\">\n",
    "    <ul>\n",
    "        <li>Downloading the Webpage Using Requests Library</li>\n",
    "        <li>Parsing Webpage HTML Using BeautifulSoup</li>\n",
    "        <li>Extracting Data and Building DataFrame</li>\n",
    "    </ul>\n",
    "<p>\n",
    "    Estimated Time Needed: <strong>30 min</strong></p>\n",
    "</div>\n",
    "\n",
    "<hr>\n"
   ]
  },
  {
   "cell_type": "code",
   "execution_count": 1,
   "metadata": {},
   "outputs": [
    {
     "name": "stdout",
     "output_type": "stream",
     "text": [
      "Requirement already satisfied: pandas in /home/jupyterlab/conda/envs/python/lib/python3.7/site-packages (1.3.3)\n",
      "Requirement already satisfied: numpy>=1.17.3 in /home/jupyterlab/conda/envs/python/lib/python3.7/site-packages (from pandas) (1.21.2)\n",
      "Requirement already satisfied: python-dateutil>=2.7.3 in /home/jupyterlab/conda/envs/python/lib/python3.7/site-packages (from pandas) (2.8.2)\n",
      "Requirement already satisfied: pytz>=2017.3 in /home/jupyterlab/conda/envs/python/lib/python3.7/site-packages (from pandas) (2021.1)\n",
      "Requirement already satisfied: six>=1.5 in /home/jupyterlab/conda/envs/python/lib/python3.7/site-packages (from python-dateutil>=2.7.3->pandas) (1.16.0)\n",
      "Requirement already satisfied: html5lib in /home/jupyterlab/conda/envs/python/lib/python3.7/site-packages (1.1)\n",
      "Requirement already satisfied: webencodings in /home/jupyterlab/conda/envs/python/lib/python3.7/site-packages (from html5lib) (0.5.1)\n",
      "Requirement already satisfied: six>=1.9 in /home/jupyterlab/conda/envs/python/lib/python3.7/site-packages (from html5lib) (1.16.0)\n",
      "Requirement already satisfied: requests in /home/jupyterlab/conda/envs/python/lib/python3.7/site-packages (2.26.0)\n",
      "Requirement already satisfied: certifi>=2017.4.17 in /home/jupyterlab/conda/envs/python/lib/python3.7/site-packages (from requests) (2021.5.30)\n",
      "Requirement already satisfied: urllib3<1.27,>=1.21.1 in /home/jupyterlab/conda/envs/python/lib/python3.7/site-packages (from requests) (1.26.7)\n",
      "Requirement already satisfied: idna<4,>=2.5 in /home/jupyterlab/conda/envs/python/lib/python3.7/site-packages (from requests) (3.1)\n",
      "Requirement already satisfied: charset-normalizer~=2.0.0 in /home/jupyterlab/conda/envs/python/lib/python3.7/site-packages (from requests) (2.0.0)\n",
      "Requirement already satisfied: bs4 in /home/jupyterlab/conda/envs/python/lib/python3.7/site-packages (0.0.1)\n",
      "Requirement already satisfied: beautifulsoup4 in /home/jupyterlab/conda/envs/python/lib/python3.7/site-packages (from bs4) (4.10.0)\n",
      "Requirement already satisfied: soupsieve>1.2 in /home/jupyterlab/conda/envs/python/lib/python3.7/site-packages (from beautifulsoup4->bs4) (2.2.1)\n",
      "Requirement already satisfied: plotly in /home/jupyterlab/conda/envs/python/lib/python3.7/site-packages (5.3.1)\n",
      "Requirement already satisfied: six in /home/jupyterlab/conda/envs/python/lib/python3.7/site-packages (from plotly) (1.16.0)\n",
      "Requirement already satisfied: tenacity>=6.2.0 in /home/jupyterlab/conda/envs/python/lib/python3.7/site-packages (from plotly) (8.0.1)\n"
     ]
    }
   ],
   "source": [
    "!pip install pandas\n",
    "!pip install html5lib\n",
    "!pip install requests\n",
    "!pip install bs4\n",
    "!pip install plotly"
   ]
  },
  {
   "cell_type": "code",
   "execution_count": 2,
   "metadata": {},
   "outputs": [],
   "source": [
    "import pandas as pd\n",
    "import requests\n",
    "from bs4 import BeautifulSoup"
   ]
  },
  {
   "cell_type": "markdown",
   "metadata": {},
   "source": [
    "## Using Webscraping to Extract Stock Data\n"
   ]
  },
  {
   "cell_type": "markdown",
   "metadata": {},
   "source": [
    "Use the `requests` library to download the webpage [https://finance.yahoo.com/quote/AMZN/history?period1=1451606400&period2=1612137600&interval=1mo&filter=history&frequency=1mo&includeAdjustedClose=true](https://finance.yahoo.com/quote/AMZN/history?period1=1451606400&period2=1612137600&interval=1mo&filter=history&frequency=1mo&includeAdjustedClose=true&cm_mmc=Email_Newsletter-_-Developer_Ed%2BTech-_-WW_WW-_-SkillsNetwork-Courses-IBMDeveloperSkillsNetwork-PY0220EN-SkillsNetwork-23455606&cm_mmca1=000026UJ&cm_mmca2=10006555&cm_mmca3=M12345678&cvosrc=email.Newsletter.M12345678&cvo_campaign=000026UJ&cm_mmc=Email_Newsletter-_-Developer_Ed%2BTech-_-WW_WW-_-SkillsNetwork-Courses-IBMDeveloperSkillsNetwork-PY0220EN-SkillsNetwork-23455606&cm_mmca1=000026UJ&cm_mmca2=10006555&cm_mmca3=M12345678&cvosrc=email.Newsletter.M12345678&cvo_campaign=000026UJ&cm_mmc=Email_Newsletter-_-Developer_Ed%2BTech-_-WW_WW-_-SkillsNetwork-Courses-IBMDeveloperSkillsNetwork-PY0220EN-SkillsNetwork-23455606&cm_mmca1=000026UJ&cm_mmca2=10006555&cm_mmca3=M12345678&cvosrc=email.Newsletter.M12345678&cvo_campaign=000026UJ&cm_mmc=Email_Newsletter-_-Developer_Ed%2BTech-_-WW_WW-_-SkillsNetwork-Courses-IBMDeveloperSkillsNetwork-PY0220EN-SkillsNetwork-23455606&cm_mmca1=000026UJ&cm_mmca2=10006555&cm_mmca3=M12345678&cvosrc=email.Newsletter.M12345678&cvo_campaign=000026UJ). Save the text of the response as a variable named `html_data`.\n"
   ]
  },
  {
   "cell_type": "code",
   "execution_count": 12,
   "metadata": {
    "tags": []
   },
   "outputs": [],
   "source": [
    "#url='https://finance.yahoo.com/quote/AMZN/history?period1=1451606400&period2=1612137600&interval=1mo&filter=history&frequency=1mo&includeAdjustedClose=true&cm_mmc=Email_Newsletter-_-Developer_Ed%2BTech-_-WW_WW-_-SkillsNetwork-Courses-IBMDeveloperSkillsNetwork-PY0220EN-SkillsNetwork-23455606&cm_mmca1=000026UJ&cm_mmca2=10006555&cm_mmca3=M12345678&cvosrc=email.Newsletter.M12345678&cvo_campaign=000026UJ&cm_mmc=Email_Newsletter-_-Developer_Ed%2BTech-_-WW_WW-_-SkillsNetwork-Courses-IBMDeveloperSkillsNetwork-PY0220EN-SkillsNetwork-23455606&cm_mmca1=000026UJ&cm_mmca2=10006555&cm_mmca3=M12345678&cvosrc=email.Newsletter.M12345678&cvo_campaign=000026UJ&cm_mmc=Email_Newsletter-_-Developer_Ed%2BTech-_-WW_WW-_-SkillsNetwork-Courses-IBMDeveloperSkillsNetwork-PY0220EN-SkillsNetwork-23455606&cm_mmca1=000026UJ&cm_mmca2=10006555&cm_mmca3=M12345678&cvosrc=email.Newsletter.M12345678&cvo_campaign=000026UJ&cm_mmc=Email_Newsletter-_-Developer_Ed%2BTech-_-WW_WW-_-SkillsNetwork-Courses-IBMDeveloperSkillsNetwork-PY0220EN-SkillsNetwork-23455606&cm_mmca1=000026UJ&cm_mmca2=10006555&cm_mmca3=M12345678&cvosrc=email.Newsletter.M12345678&cvo_campaign=000026UJ'\n",
    "url = \"https://ycharts.com/companies/AMZN/price\"\n",
    "html_data=requests.get(url).text"
   ]
  },
  {
   "cell_type": "markdown",
   "metadata": {},
   "source": [
    "Parse the html data using `beautiful_soup`.\n"
   ]
  },
  {
   "cell_type": "code",
   "execution_count": 13,
   "metadata": {},
   "outputs": [],
   "source": [
    "soup=BeautifulSoup(html_data,'html.parser')"
   ]
  },
  {
   "cell_type": "markdown",
   "metadata": {},
   "source": [
    "<b>Question 1</b> what is the content of the title attribute:\n"
   ]
  },
  {
   "cell_type": "code",
   "execution_count": 14,
   "metadata": {},
   "outputs": [
    {
     "data": {
      "text/plain": [
       "<title>\n",
       "    Amazon.com Price | AMZN\n",
       "</title>"
      ]
     },
     "execution_count": 14,
     "metadata": {},
     "output_type": "execute_result"
    }
   ],
   "source": [
    "soup.title"
   ]
  },
  {
   "cell_type": "code",
   "execution_count": 29,
   "metadata": {},
   "outputs": [
    {
     "data": {
      "text/plain": [
       "[<tr>\n",
       " <td class=\"col1\">Oct. 8, 2021</td>\n",
       " <td class=\"col2\">3317.00</td>\n",
       " <td class=\"col3\">3321.43</td>\n",
       " <td class=\"col4\">3288.20</td>\n",
       " <td class=\"col5\">3288.62</td>\n",
       " <td class=\"col6\">1.960M</td>\n",
       " </tr>,\n",
       " <tr>\n",
       " <td class=\"col1\">Oct. 7, 2021</td>\n",
       " <td class=\"col2\">3291.54</td>\n",
       " <td class=\"col3\">3325.75</td>\n",
       " <td class=\"col4\">3283.06</td>\n",
       " <td class=\"col5\">3302.43</td>\n",
       " <td class=\"col6\">2.409M</td>\n",
       " </tr>,\n",
       " <tr>\n",
       " <td class=\"col1\">Oct. 6, 2021</td>\n",
       " <td class=\"col2\">3213.53</td>\n",
       " <td class=\"col3\">3264.34</td>\n",
       " <td class=\"col4\">3198.62</td>\n",
       " <td class=\"col5\">3262.01</td>\n",
       " <td class=\"col6\">2.533M</td>\n",
       " </tr>,\n",
       " <tr>\n",
       " <td class=\"col1\">Oct. 5, 2021</td>\n",
       " <td class=\"col2\">3204.50</td>\n",
       " <td class=\"col3\">3260.73</td>\n",
       " <td class=\"col4\">3202.46</td>\n",
       " <td class=\"col5\">3221.00</td>\n",
       " <td class=\"col6\">3.269M</td>\n",
       " </tr>,\n",
       " <tr>\n",
       " <td class=\"col1\">Oct. 4, 2021</td>\n",
       " <td class=\"col2\">3279.39</td>\n",
       " <td class=\"col3\">3279.99</td>\n",
       " <td class=\"col4\">3176.25</td>\n",
       " <td class=\"col5\">3189.78</td>\n",
       " <td class=\"col6\">4.523M</td>\n",
       " </tr>,\n",
       " <tr>\n",
       " <td class=\"col1\">Oct. 1, 2021</td>\n",
       " <td class=\"col2\">3289.01</td>\n",
       " <td class=\"col3\">3309.17</td>\n",
       " <td class=\"col4\">3255.94</td>\n",
       " <td class=\"col5\">3283.26</td>\n",
       " <td class=\"col6\">2.836M</td>\n",
       " </tr>,\n",
       " <tr>\n",
       " <td class=\"col1\">Sept. 30, 2021</td>\n",
       " <td class=\"col2\">3316.00</td>\n",
       " <td class=\"col3\">3327.85</td>\n",
       " <td class=\"col4\">3273.99</td>\n",
       " <td class=\"col5\">3285.04</td>\n",
       " <td class=\"col6\">2.847M</td>\n",
       " </tr>,\n",
       " <tr>\n",
       " <td class=\"col1\">Sept. 29, 2021</td>\n",
       " <td class=\"col2\">3322.11</td>\n",
       " <td class=\"col3\">3351.30</td>\n",
       " <td class=\"col4\">3297.87</td>\n",
       " <td class=\"col5\">3301.12</td>\n",
       " <td class=\"col6\">2.562M</td>\n",
       " </tr>,\n",
       " <tr>\n",
       " <td class=\"col1\">Sept. 28, 2021</td>\n",
       " <td class=\"col2\">3357.71</td>\n",
       " <td class=\"col3\">3369.19</td>\n",
       " <td class=\"col4\">3290.10</td>\n",
       " <td class=\"col5\">3315.96</td>\n",
       " <td class=\"col6\">4.431M</td>\n",
       " </tr>,\n",
       " <tr>\n",
       " <td class=\"col1\">Sept. 27, 2021</td>\n",
       " <td class=\"col2\">3371.50</td>\n",
       " <td class=\"col3\">3415.57</td>\n",
       " <td class=\"col4\">3339.61</td>\n",
       " <td class=\"col5\">3405.80</td>\n",
       " <td class=\"col6\">3.634M</td>\n",
       " </tr>,\n",
       " <tr>\n",
       " <td class=\"col1\">Sept. 24, 2021</td>\n",
       " <td class=\"col2\">3402.01</td>\n",
       " <td class=\"col3\">3429.26</td>\n",
       " <td class=\"col4\">3393.40</td>\n",
       " <td class=\"col5\">3425.52</td>\n",
       " <td class=\"col6\">2.116M</td>\n",
       " </tr>,\n",
       " <tr>\n",
       " <td class=\"col1\">Sept. 23, 2021</td>\n",
       " <td class=\"col2\">3380.05</td>\n",
       " <td class=\"col3\">3428.96</td>\n",
       " <td class=\"col4\">3380.05</td>\n",
       " <td class=\"col5\">3416.00</td>\n",
       " <td class=\"col6\">2.379M</td>\n",
       " </tr>,\n",
       " <tr>\n",
       " <td class=\"col1\">Sept. 22, 2021</td>\n",
       " <td class=\"col2\">3351.00</td>\n",
       " <td class=\"col3\">3389.00</td>\n",
       " <td class=\"col4\">3341.05</td>\n",
       " <td class=\"col5\">3380.05</td>\n",
       " <td class=\"col6\">2.411M</td>\n",
       " </tr>,\n",
       " <tr>\n",
       " <td class=\"col1\">Sept. 21, 2021</td>\n",
       " <td class=\"col2\">3375.00</td>\n",
       " <td class=\"col3\">3379.70</td>\n",
       " <td class=\"col4\">3332.39</td>\n",
       " <td class=\"col5\">3343.63</td>\n",
       " <td class=\"col6\">2.781M</td>\n",
       " </tr>,\n",
       " <tr>\n",
       " <td class=\"col1\">Sept. 20, 2021</td>\n",
       " <td class=\"col2\">3396.00</td>\n",
       " <td class=\"col3\">3419.00</td>\n",
       " <td class=\"col4\">3305.01</td>\n",
       " <td class=\"col5\">3355.73</td>\n",
       " <td class=\"col6\">4.669M</td>\n",
       " </tr>,\n",
       " <tr>\n",
       " <td class=\"col1\">Sept. 17, 2021</td>\n",
       " <td class=\"col2\">3488.41</td>\n",
       " <td class=\"col3\">3497.41</td>\n",
       " <td class=\"col4\">3452.13</td>\n",
       " <td class=\"col5\">3462.52</td>\n",
       " <td class=\"col6\">4.617M</td>\n",
       " </tr>,\n",
       " <tr>\n",
       " <td class=\"col1\">Sept. 16, 2021</td>\n",
       " <td class=\"col2\">3459.96</td>\n",
       " <td class=\"col3\">3492.55</td>\n",
       " <td class=\"col4\">3446.14</td>\n",
       " <td class=\"col5\">3488.24</td>\n",
       " <td class=\"col6\">2.584M</td>\n",
       " </tr>,\n",
       " <tr>\n",
       " <td class=\"col1\">Sept. 15, 2021</td>\n",
       " <td class=\"col2\">3442.52</td>\n",
       " <td class=\"col3\">3485.42</td>\n",
       " <td class=\"col4\">3402.01</td>\n",
       " <td class=\"col5\">3475.79</td>\n",
       " <td class=\"col6\">2.958M</td>\n",
       " </tr>,\n",
       " <tr>\n",
       " <td class=\"col1\">Sept. 14, 2021</td>\n",
       " <td class=\"col2\">3475.55</td>\n",
       " <td class=\"col3\">3486.81</td>\n",
       " <td class=\"col4\">3437.71</td>\n",
       " <td class=\"col5\">3450.00</td>\n",
       " <td class=\"col6\">1.937M</td>\n",
       " </tr>,\n",
       " <tr>\n",
       " <td class=\"col1\">Sept. 13, 2021</td>\n",
       " <td class=\"col2\">3482.80</td>\n",
       " <td class=\"col3\">3497.96</td>\n",
       " <td class=\"col4\">3438.00</td>\n",
       " <td class=\"col5\">3457.17</td>\n",
       " <td class=\"col6\">2.569M</td>\n",
       " </tr>,\n",
       " <tr>\n",
       " <td class=\"col1\">Sept. 10, 2021</td>\n",
       " <td class=\"col2\">3501.83</td>\n",
       " <td class=\"col3\">3508.45</td>\n",
       " <td class=\"col4\">3462.91</td>\n",
       " <td class=\"col5\">3469.15</td>\n",
       " <td class=\"col6\">2.397M</td>\n",
       " </tr>,\n",
       " <tr>\n",
       " <td class=\"col1\">Sept. 9, 2021</td>\n",
       " <td class=\"col2\">3526.02</td>\n",
       " <td class=\"col3\">3549.99</td>\n",
       " <td class=\"col4\">3480.37</td>\n",
       " <td class=\"col5\">3484.16</td>\n",
       " <td class=\"col6\">2.719M</td>\n",
       " </tr>,\n",
       " <tr>\n",
       " <td class=\"col1\">Sept. 8, 2021</td>\n",
       " <td class=\"col2\">3511.65</td>\n",
       " <td class=\"col3\">3545.63</td>\n",
       " <td class=\"col4\">3495.67</td>\n",
       " <td class=\"col5\">3525.50</td>\n",
       " <td class=\"col6\">3.053M</td>\n",
       " </tr>,\n",
       " <tr>\n",
       " <td class=\"col1\">Sept. 7, 2021</td>\n",
       " <td class=\"col2\">3478.00</td>\n",
       " <td class=\"col3\">3528.09</td>\n",
       " <td class=\"col4\">3476.94</td>\n",
       " <td class=\"col5\">3509.29</td>\n",
       " <td class=\"col6\">2.741M</td>\n",
       " </tr>,\n",
       " <tr class=\"last\">\n",
       " <td class=\"col1\">Sept. 3, 2021</td>\n",
       " <td class=\"col2\">3452.00</td>\n",
       " <td class=\"col3\">3482.67</td>\n",
       " <td class=\"col4\">3436.44</td>\n",
       " <td class=\"col5\">3478.05</td>\n",
       " <td class=\"col6\">2.578M</td>\n",
       " </tr>]"
      ]
     },
     "execution_count": 29,
     "metadata": {},
     "output_type": "execute_result"
    }
   ],
   "source": [
    "#soup.find_all(\"table\")[0]\n",
    "table_row = soup.find(\"table\").find_all(\"tr\")\n",
    "table_row.pop(0)\n",
    "table_row"
   ]
  },
  {
   "cell_type": "markdown",
   "metadata": {},
   "source": [
    "Using beautiful soup extract the table with historical share prices and store it into a dataframe named `amazon_data`. The dataframe should have columns Date, Open, High, Low, Close, Adj Close, and Volume. Fill in each variable with the correct data from the list `col`. \n",
    "\n",
    "Hint: Print the `col` list to see what data to use\n"
   ]
  },
  {
   "cell_type": "code",
   "execution_count": 39,
   "metadata": {},
   "outputs": [
    {
     "name": "stdout",
     "output_type": "stream",
     "text": [
      "[<td class=\"col1\">Oct. 8, 2021</td>, <td class=\"col2\">3317.00</td>, <td class=\"col3\">3321.43</td>, <td class=\"col4\">3288.20</td>, <td class=\"col5\">3288.62</td>, <td class=\"col6\">1.960M</td>]\n",
      "[<td class=\"col1\">Oct. 7, 2021</td>, <td class=\"col2\">3291.54</td>, <td class=\"col3\">3325.75</td>, <td class=\"col4\">3283.06</td>, <td class=\"col5\">3302.43</td>, <td class=\"col6\">2.409M</td>]\n",
      "[<td class=\"col1\">Oct. 6, 2021</td>, <td class=\"col2\">3213.53</td>, <td class=\"col3\">3264.34</td>, <td class=\"col4\">3198.62</td>, <td class=\"col5\">3262.01</td>, <td class=\"col6\">2.533M</td>]\n",
      "[<td class=\"col1\">Oct. 5, 2021</td>, <td class=\"col2\">3204.50</td>, <td class=\"col3\">3260.73</td>, <td class=\"col4\">3202.46</td>, <td class=\"col5\">3221.00</td>, <td class=\"col6\">3.269M</td>]\n",
      "[<td class=\"col1\">Oct. 4, 2021</td>, <td class=\"col2\">3279.39</td>, <td class=\"col3\">3279.99</td>, <td class=\"col4\">3176.25</td>, <td class=\"col5\">3189.78</td>, <td class=\"col6\">4.523M</td>]\n",
      "[<td class=\"col1\">Oct. 1, 2021</td>, <td class=\"col2\">3289.01</td>, <td class=\"col3\">3309.17</td>, <td class=\"col4\">3255.94</td>, <td class=\"col5\">3283.26</td>, <td class=\"col6\">2.836M</td>]\n",
      "[<td class=\"col1\">Sept. 30, 2021</td>, <td class=\"col2\">3316.00</td>, <td class=\"col3\">3327.85</td>, <td class=\"col4\">3273.99</td>, <td class=\"col5\">3285.04</td>, <td class=\"col6\">2.847M</td>]\n",
      "[<td class=\"col1\">Sept. 29, 2021</td>, <td class=\"col2\">3322.11</td>, <td class=\"col3\">3351.30</td>, <td class=\"col4\">3297.87</td>, <td class=\"col5\">3301.12</td>, <td class=\"col6\">2.562M</td>]\n",
      "[<td class=\"col1\">Sept. 28, 2021</td>, <td class=\"col2\">3357.71</td>, <td class=\"col3\">3369.19</td>, <td class=\"col4\">3290.10</td>, <td class=\"col5\">3315.96</td>, <td class=\"col6\">4.431M</td>]\n",
      "[<td class=\"col1\">Sept. 27, 2021</td>, <td class=\"col2\">3371.50</td>, <td class=\"col3\">3415.57</td>, <td class=\"col4\">3339.61</td>, <td class=\"col5\">3405.80</td>, <td class=\"col6\">3.634M</td>]\n",
      "[<td class=\"col1\">Sept. 24, 2021</td>, <td class=\"col2\">3402.01</td>, <td class=\"col3\">3429.26</td>, <td class=\"col4\">3393.40</td>, <td class=\"col5\">3425.52</td>, <td class=\"col6\">2.116M</td>]\n",
      "[<td class=\"col1\">Sept. 23, 2021</td>, <td class=\"col2\">3380.05</td>, <td class=\"col3\">3428.96</td>, <td class=\"col4\">3380.05</td>, <td class=\"col5\">3416.00</td>, <td class=\"col6\">2.379M</td>]\n",
      "[<td class=\"col1\">Sept. 22, 2021</td>, <td class=\"col2\">3351.00</td>, <td class=\"col3\">3389.00</td>, <td class=\"col4\">3341.05</td>, <td class=\"col5\">3380.05</td>, <td class=\"col6\">2.411M</td>]\n",
      "[<td class=\"col1\">Sept. 21, 2021</td>, <td class=\"col2\">3375.00</td>, <td class=\"col3\">3379.70</td>, <td class=\"col4\">3332.39</td>, <td class=\"col5\">3343.63</td>, <td class=\"col6\">2.781M</td>]\n",
      "[<td class=\"col1\">Sept. 20, 2021</td>, <td class=\"col2\">3396.00</td>, <td class=\"col3\">3419.00</td>, <td class=\"col4\">3305.01</td>, <td class=\"col5\">3355.73</td>, <td class=\"col6\">4.669M</td>]\n",
      "[<td class=\"col1\">Sept. 17, 2021</td>, <td class=\"col2\">3488.41</td>, <td class=\"col3\">3497.41</td>, <td class=\"col4\">3452.13</td>, <td class=\"col5\">3462.52</td>, <td class=\"col6\">4.617M</td>]\n",
      "[<td class=\"col1\">Sept. 16, 2021</td>, <td class=\"col2\">3459.96</td>, <td class=\"col3\">3492.55</td>, <td class=\"col4\">3446.14</td>, <td class=\"col5\">3488.24</td>, <td class=\"col6\">2.584M</td>]\n",
      "[<td class=\"col1\">Sept. 15, 2021</td>, <td class=\"col2\">3442.52</td>, <td class=\"col3\">3485.42</td>, <td class=\"col4\">3402.01</td>, <td class=\"col5\">3475.79</td>, <td class=\"col6\">2.958M</td>]\n",
      "[<td class=\"col1\">Sept. 14, 2021</td>, <td class=\"col2\">3475.55</td>, <td class=\"col3\">3486.81</td>, <td class=\"col4\">3437.71</td>, <td class=\"col5\">3450.00</td>, <td class=\"col6\">1.937M</td>]\n",
      "[<td class=\"col1\">Sept. 13, 2021</td>, <td class=\"col2\">3482.80</td>, <td class=\"col3\">3497.96</td>, <td class=\"col4\">3438.00</td>, <td class=\"col5\">3457.17</td>, <td class=\"col6\">2.569M</td>]\n",
      "[<td class=\"col1\">Sept. 10, 2021</td>, <td class=\"col2\">3501.83</td>, <td class=\"col3\">3508.45</td>, <td class=\"col4\">3462.91</td>, <td class=\"col5\">3469.15</td>, <td class=\"col6\">2.397M</td>]\n",
      "[<td class=\"col1\">Sept. 9, 2021</td>, <td class=\"col2\">3526.02</td>, <td class=\"col3\">3549.99</td>, <td class=\"col4\">3480.37</td>, <td class=\"col5\">3484.16</td>, <td class=\"col6\">2.719M</td>]\n",
      "[<td class=\"col1\">Sept. 8, 2021</td>, <td class=\"col2\">3511.65</td>, <td class=\"col3\">3545.63</td>, <td class=\"col4\">3495.67</td>, <td class=\"col5\">3525.50</td>, <td class=\"col6\">3.053M</td>]\n",
      "[<td class=\"col1\">Sept. 7, 2021</td>, <td class=\"col2\">3478.00</td>, <td class=\"col3\">3528.09</td>, <td class=\"col4\">3476.94</td>, <td class=\"col5\">3509.29</td>, <td class=\"col6\">2.741M</td>]\n",
      "[<td class=\"col1\">Sept. 3, 2021</td>, <td class=\"col2\">3452.00</td>, <td class=\"col3\">3482.67</td>, <td class=\"col4\">3436.44</td>, <td class=\"col5\">3478.05</td>, <td class=\"col6\">2.578M</td>]\n"
     ]
    }
   ],
   "source": [
    "amazon_data = pd.DataFrame(columns=[\"Date\", \"Open\", \"High\", \"Low\", \"Close\", \"Volume\"])\n",
    "\n",
    "for row in table_row:\n",
    "    col = row.find_all(\"td\")\n",
    "    date =col[0].text\n",
    "    Open =col[1].text\n",
    "    high =col[2].text\n",
    "    low =col[3].text\n",
    "    close =col[4].text\n",
    "    volume =col[5].text\n",
    "    amazon_data = amazon_data.append({\"Date\":date, \"Open\":Open, \"High\":high, \"Low\":low, \"Close\":close, \"Volume\":volume}, ignore_index=True)"
   ]
  },
  {
   "cell_type": "markdown",
   "metadata": {},
   "source": [
    "Print out the first five rows of the `amazon_data` dataframe you created.\n"
   ]
  },
  {
   "cell_type": "code",
   "execution_count": 40,
   "metadata": {},
   "outputs": [
    {
     "data": {
      "text/html": [
       "<div>\n",
       "<style scoped>\n",
       "    .dataframe tbody tr th:only-of-type {\n",
       "        vertical-align: middle;\n",
       "    }\n",
       "\n",
       "    .dataframe tbody tr th {\n",
       "        vertical-align: top;\n",
       "    }\n",
       "\n",
       "    .dataframe thead th {\n",
       "        text-align: right;\n",
       "    }\n",
       "</style>\n",
       "<table border=\"1\" class=\"dataframe\">\n",
       "  <thead>\n",
       "    <tr style=\"text-align: right;\">\n",
       "      <th></th>\n",
       "      <th>Date</th>\n",
       "      <th>Open</th>\n",
       "      <th>High</th>\n",
       "      <th>Low</th>\n",
       "      <th>Close</th>\n",
       "      <th>Volume</th>\n",
       "    </tr>\n",
       "  </thead>\n",
       "  <tbody>\n",
       "    <tr>\n",
       "      <th>0</th>\n",
       "      <td>Oct. 8, 2021</td>\n",
       "      <td>3317.00</td>\n",
       "      <td>3321.43</td>\n",
       "      <td>3288.20</td>\n",
       "      <td>3288.62</td>\n",
       "      <td>1.960M</td>\n",
       "    </tr>\n",
       "    <tr>\n",
       "      <th>1</th>\n",
       "      <td>Oct. 7, 2021</td>\n",
       "      <td>3291.54</td>\n",
       "      <td>3325.75</td>\n",
       "      <td>3283.06</td>\n",
       "      <td>3302.43</td>\n",
       "      <td>2.409M</td>\n",
       "    </tr>\n",
       "    <tr>\n",
       "      <th>2</th>\n",
       "      <td>Oct. 6, 2021</td>\n",
       "      <td>3213.53</td>\n",
       "      <td>3264.34</td>\n",
       "      <td>3198.62</td>\n",
       "      <td>3262.01</td>\n",
       "      <td>2.533M</td>\n",
       "    </tr>\n",
       "    <tr>\n",
       "      <th>3</th>\n",
       "      <td>Oct. 5, 2021</td>\n",
       "      <td>3204.50</td>\n",
       "      <td>3260.73</td>\n",
       "      <td>3202.46</td>\n",
       "      <td>3221.00</td>\n",
       "      <td>3.269M</td>\n",
       "    </tr>\n",
       "    <tr>\n",
       "      <th>4</th>\n",
       "      <td>Oct. 4, 2021</td>\n",
       "      <td>3279.39</td>\n",
       "      <td>3279.99</td>\n",
       "      <td>3176.25</td>\n",
       "      <td>3189.78</td>\n",
       "      <td>4.523M</td>\n",
       "    </tr>\n",
       "    <tr>\n",
       "      <th>5</th>\n",
       "      <td>Oct. 1, 2021</td>\n",
       "      <td>3289.01</td>\n",
       "      <td>3309.17</td>\n",
       "      <td>3255.94</td>\n",
       "      <td>3283.26</td>\n",
       "      <td>2.836M</td>\n",
       "    </tr>\n",
       "    <tr>\n",
       "      <th>6</th>\n",
       "      <td>Sept. 30, 2021</td>\n",
       "      <td>3316.00</td>\n",
       "      <td>3327.85</td>\n",
       "      <td>3273.99</td>\n",
       "      <td>3285.04</td>\n",
       "      <td>2.847M</td>\n",
       "    </tr>\n",
       "    <tr>\n",
       "      <th>7</th>\n",
       "      <td>Sept. 29, 2021</td>\n",
       "      <td>3322.11</td>\n",
       "      <td>3351.30</td>\n",
       "      <td>3297.87</td>\n",
       "      <td>3301.12</td>\n",
       "      <td>2.562M</td>\n",
       "    </tr>\n",
       "    <tr>\n",
       "      <th>8</th>\n",
       "      <td>Sept. 28, 2021</td>\n",
       "      <td>3357.71</td>\n",
       "      <td>3369.19</td>\n",
       "      <td>3290.10</td>\n",
       "      <td>3315.96</td>\n",
       "      <td>4.431M</td>\n",
       "    </tr>\n",
       "    <tr>\n",
       "      <th>9</th>\n",
       "      <td>Sept. 27, 2021</td>\n",
       "      <td>3371.50</td>\n",
       "      <td>3415.57</td>\n",
       "      <td>3339.61</td>\n",
       "      <td>3405.80</td>\n",
       "      <td>3.634M</td>\n",
       "    </tr>\n",
       "  </tbody>\n",
       "</table>\n",
       "</div>"
      ],
      "text/plain": [
       "             Date     Open     High      Low    Close  Volume\n",
       "0    Oct. 8, 2021  3317.00  3321.43  3288.20  3288.62  1.960M\n",
       "1    Oct. 7, 2021  3291.54  3325.75  3283.06  3302.43  2.409M\n",
       "2    Oct. 6, 2021  3213.53  3264.34  3198.62  3262.01  2.533M\n",
       "3    Oct. 5, 2021  3204.50  3260.73  3202.46  3221.00  3.269M\n",
       "4    Oct. 4, 2021  3279.39  3279.99  3176.25  3189.78  4.523M\n",
       "5    Oct. 1, 2021  3289.01  3309.17  3255.94  3283.26  2.836M\n",
       "6  Sept. 30, 2021  3316.00  3327.85  3273.99  3285.04  2.847M\n",
       "7  Sept. 29, 2021  3322.11  3351.30  3297.87  3301.12  2.562M\n",
       "8  Sept. 28, 2021  3357.71  3369.19  3290.10  3315.96  4.431M\n",
       "9  Sept. 27, 2021  3371.50  3415.57  3339.61  3405.80  3.634M"
      ]
     },
     "execution_count": 40,
     "metadata": {},
     "output_type": "execute_result"
    }
   ],
   "source": [
    "amazon_data.head(10)"
   ]
  },
  {
   "cell_type": "markdown",
   "metadata": {},
   "source": [
    "<b>Question 2</b> What is the name of the columns of the dataframe \n"
   ]
  },
  {
   "cell_type": "code",
   "execution_count": 41,
   "metadata": {},
   "outputs": [
    {
     "data": {
      "text/plain": [
       "Index(['Date', 'Open', 'High', 'Low', 'Close', 'Volume'], dtype='object')"
      ]
     },
     "execution_count": 41,
     "metadata": {},
     "output_type": "execute_result"
    }
   ],
   "source": [
    "amazon_data.columns"
   ]
  },
  {
   "cell_type": "markdown",
   "metadata": {},
   "source": [
    "<b>Question 3</b> What is the `Open` of `Jun 30, 2019` of the dataframe?\n"
   ]
  },
  {
   "cell_type": "code",
   "execution_count": 43,
   "metadata": {},
   "outputs": [
    {
     "data": {
      "text/html": [
       "<div>\n",
       "<style scoped>\n",
       "    .dataframe tbody tr th:only-of-type {\n",
       "        vertical-align: middle;\n",
       "    }\n",
       "\n",
       "    .dataframe tbody tr th {\n",
       "        vertical-align: top;\n",
       "    }\n",
       "\n",
       "    .dataframe thead th {\n",
       "        text-align: right;\n",
       "    }\n",
       "</style>\n",
       "<table border=\"1\" class=\"dataframe\">\n",
       "  <thead>\n",
       "    <tr style=\"text-align: right;\">\n",
       "      <th></th>\n",
       "      <th>Date</th>\n",
       "      <th>Open</th>\n",
       "      <th>High</th>\n",
       "      <th>Low</th>\n",
       "      <th>Close</th>\n",
       "      <th>Volume</th>\n",
       "    </tr>\n",
       "  </thead>\n",
       "  <tbody>\n",
       "    <tr>\n",
       "      <th>6</th>\n",
       "      <td>Sept. 30, 2021</td>\n",
       "      <td>3316.00</td>\n",
       "      <td>3327.85</td>\n",
       "      <td>3273.99</td>\n",
       "      <td>3285.04</td>\n",
       "      <td>2.847M</td>\n",
       "    </tr>\n",
       "  </tbody>\n",
       "</table>\n",
       "</div>"
      ],
      "text/plain": [
       "             Date     Open     High      Low    Close  Volume\n",
       "6  Sept. 30, 2021  3316.00  3327.85  3273.99  3285.04  2.847M"
      ]
     },
     "execution_count": 43,
     "metadata": {},
     "output_type": "execute_result"
    }
   ],
   "source": [
    "open_price=amazon_data[amazon_data['Date']=='Sept. 30, 2021']\n",
    "open_price"
   ]
  },
  {
   "cell_type": "markdown",
   "metadata": {},
   "source": [
    "<h2>About the Authors:</h2> \n",
    "\n",
    "<a href=\"https://www.linkedin.com/in/joseph-s-50398b136/\">Joseph Santarcangelo</a> has a PhD in Electrical Engineering, his research focused on using machine learning, signal processing, and computer vision to determine how videos impact human cognition. Joseph has been working for IBM since he completed his PhD.\n",
    "\n",
    "Azim Hirjani\n"
   ]
  },
  {
   "cell_type": "markdown",
   "metadata": {},
   "source": [
    "## Change Log\n",
    "\n",
    "| Date (YYYY-MM-DD) | Version | Changed By    | Change Description        |\n",
    "| ----------------- | ------- | ------------- | ------------------------- |\n",
    "| 2020-11-10        | 1.1     | Malika Singla | Deleted the Optional part |\n",
    "| 2020-08-27        | 1.0     | Malika Singla | Added lab to GitLab       |\n",
    "\n",
    "<hr>\n",
    "\n",
    "## <h3 align=\"center\"> © IBM Corporation 2020. All rights reserved. <h3/>\n",
    "\n",
    "<p>\n"
   ]
  }
 ],
 "metadata": {
  "kernelspec": {
   "display_name": "Python",
   "language": "python",
   "name": "conda-env-python-py"
  },
  "language_info": {
   "codemirror_mode": {
    "name": "ipython",
    "version": 3
   },
   "file_extension": ".py",
   "mimetype": "text/x-python",
   "name": "python",
   "nbconvert_exporter": "python",
   "pygments_lexer": "ipython3",
   "version": "3.7.10"
  }
 },
 "nbformat": 4,
 "nbformat_minor": 4
}
