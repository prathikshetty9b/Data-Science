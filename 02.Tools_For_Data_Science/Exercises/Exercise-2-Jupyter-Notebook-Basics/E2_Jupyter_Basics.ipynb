{
 "cells": [
  {
   "cell_type": "markdown",
   "source": [],
   "metadata": {}
  },
  {
   "cell_type": "markdown",
   "source": [
    "# Jupyter Basics\r\n",
    "\r\n",
    "## Shortcuts:\r\n",
    " 1. [a] or [b] to add cells above or below \r\n",
    " 2. [m] to convert a cell to markdown"
   ],
   "metadata": {}
  },
  {
   "cell_type": "markdown",
   "source": [
    "## Addition of Two numbers"
   ],
   "metadata": {}
  },
  {
   "cell_type": "code",
   "execution_count": 2,
   "source": [
    "a=10\r\n",
    "b=20\r\n",
    "print(a+b)"
   ],
   "outputs": [
    {
     "output_type": "stream",
     "name": "stdout",
     "text": [
      "30\n"
     ]
    }
   ],
   "metadata": {}
  },
  {
   "cell_type": "markdown",
   "source": [
    "# #Heading 1\r\n",
    "## ## Heading 2\r\n",
    "### ### Heading 3"
   ],
   "metadata": {}
  },
  {
   "cell_type": "markdown",
   "source": [],
   "metadata": {}
  },
  {
   "cell_type": "markdown",
   "source": [
    "# Markdown Cheat-Sheet\r\n",
    "[Cheatsheet](https://github.com/adam-p/markdown-here/wiki/Markdown-Cheatsheet)"
   ],
   "metadata": {}
  },
  {
   "cell_type": "markdown",
   "source": [],
   "metadata": {}
  },
  {
   "cell_type": "markdown",
   "source": [
    "# Creating a Table\r\n",
    "| Heading 1 | Heading 2 | Heading 3|\r\n",
    "|-----------|:---------:|---------:|\r\n",
    "|Left       | `Center`  | right  |   "
   ],
   "metadata": {}
  },
  {
   "cell_type": "markdown",
   "source": [],
   "metadata": {}
  }
 ],
 "metadata": {
  "orig_nbformat": 4,
  "language_info": {
   "name": "python",
   "version": "3.9.6",
   "mimetype": "text/x-python",
   "codemirror_mode": {
    "name": "ipython",
    "version": 3
   },
   "pygments_lexer": "ipython3",
   "nbconvert_exporter": "python",
   "file_extension": ".py"
  },
  "kernelspec": {
   "name": "python3",
   "display_name": "Python 3.9.6 64-bit"
  },
  "interpreter": {
   "hash": "cdcdd9caa4b52f627d359f5b4f59a1542c65ca84e249c9fe81bf228d5aa25fd9"
  }
 },
 "nbformat": 4,
 "nbformat_minor": 2
}